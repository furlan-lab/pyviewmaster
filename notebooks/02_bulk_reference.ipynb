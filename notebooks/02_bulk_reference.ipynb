{
 "cells": [
  {
   "cell_type": "code",
   "execution_count": null,
   "metadata": {
    "vscode": {
     "languageId": "shellscript"
    }
   },
   "outputs": [],
   "source": [
    "micromamba activate scvelo_jupyter_new\n",
    "micromamba run -n scvelo_jupyter_new pip install rds2py\n",
    "micromamba run -n scvelo_jupyter_new pip install twine\n",
    "micromamba run -n scvelo_jupyter_new pip install git+https://github.com/furlan-lab/pyviewmaster.git"
   ]
  },
  {
   "cell_type": "code",
   "execution_count": 82,
   "metadata": {},
   "outputs": [],
   "source": [
    "# Core scverse libraries\n",
    "import scanpy as sc\n",
    "import anndata as ad\n",
    "import scvelo as scv\n",
    "import os\n",
    "import glob\n",
    "import pandas as pd\n",
    "import numpy as np\n",
    "sc.settings.set_figure_params(dpi=100, facecolor=\"white\")\n",
    "import socket\n",
    "from pyviewmaster import *\n",
    "\n",
    "hostname = socket.gethostname()\n",
    "\n",
    "if hostname.startswith(\"gizmo\"):\n",
    "  ROOT_DIR1 = \"/fh/fast/furlan_s/datasets/AML/LOR_classifier/cds\"\n",
    "  ROOT_DIR2 = \"/fh/fast/furlan_s/grp/data/ddata/BM_data\"\n",
    "  ROOT_DIR3 = \"/fh/fast/furlan_s/grp/data/ddata/BM_data\"\n",
    "else:\n",
    "  ROOT_DIR1 = \"/Users/sfurlan/Library/CloudStorage/OneDrive-SharedLibraries-FredHutchinsonCancerCenter/Furlan_Lab - General/datasets/AML/LOR_classifier/cds\"\n",
    "  ROOT_DIR2 = \"/Users/sfurlan/Library/CloudStorage/OneDrive-SharedLibraries-FredHutchinsonCancerCenter/Furlan_Lab - General/experiments/patient_marrows/aggr/cds/indy\"\n",
    "  ROOT_DIR3 = \"/Users/sfurlan/Library/CloudStorage/OneDrive-SharedLibraries-FredHutchinsonCancerCenter/Furlan_Lab - General/datasets/Healthy_BM_greenleaf\"\n"
   ]
  },
  {
   "cell_type": "markdown",
   "metadata": {},
   "source": [
    "## LOAD SUMMARIZED EXPERIMENT OBJECT IN PYTHON"
   ]
  },
  {
   "cell_type": "code",
   "execution_count": 83,
   "metadata": {},
   "outputs": [],
   "source": [
    "from rds2py import read_rds\n",
    "ref =read_rds(ROOT_DIR1+\"/240126_Combined_SE_Object.RDS\")\n"
   ]
  },
  {
   "cell_type": "code",
   "execution_count": null,
   "metadata": {},
   "outputs": [],
   "source": []
  },
  {
   "cell_type": "code",
   "execution_count": null,
   "metadata": {},
   "outputs": [],
   "source": [
    "\n",
    "\n",
    "rdata = ad.AnnData(scounts)\n",
    "rdata.obs_names = meta.index\n",
    "rdata.obs = meta\n",
    "rdata.var = var"
   ]
  },
  {
   "cell_type": "code",
   "execution_count": null,
   "metadata": {},
   "outputs": [],
   "source": [
    "# Normalizing to median total counts\n",
    "sc.pp.normalize_total(rdata)\n",
    "# Logarithmize the data\n",
    "sc.pp.log1p(rdata)\n",
    "sc.pp.highly_variable_genes(rdata, n_top_genes=10000)\n",
    "sc.pl.highly_variable_genes(rdata)\n",
    "sc.tl.pca(rdata)\n",
    "sc.pl.pca_variance_ratio(rdata, n_pcs=50, log=True)\n",
    "sc.pp.neighbors(rdata)\n",
    "sc.tl.umap(rdata)\n"
   ]
  },
  {
   "cell_type": "code",
   "execution_count": null,
   "metadata": {},
   "outputs": [],
   "source": [
    "sc.pl.umap(rdata, color = \"category1\")"
   ]
  },
  {
   "cell_type": "code",
   "execution_count": null,
   "metadata": {},
   "outputs": [],
   "source": []
  },
  {
   "cell_type": "markdown",
   "metadata": {},
   "source": [
    "## LOAD 3 FILE QUERY"
   ]
  },
  {
   "cell_type": "code",
   "execution_count": null,
   "metadata": {},
   "outputs": [],
   "source": [
    "samples = {\n",
    "    \"query\": ROOT_DIR1+\"/3file\",\n",
    "}\n",
    "adatas = {}\n",
    "\n",
    "for sample_id, filename in samples.items():\n",
    "    sample_adata = sc.read_10x_mtx(filename)\n",
    "    sample_adata.var_names_make_unique()\n",
    "    adatas[sample_id] = sample_adata\n",
    "\n",
    "adata = ad.concat(adatas, label=\"sample\")\n",
    "adata.obs_names_make_unique()\n",
    "meta = pd.read_csv(ROOT_DIR1+\"/3file/meta.csv\", header=0, sep=',', index_col=0)\n",
    "meta = meta.loc[adata.obs.index]\n",
    "adata.obs = pd.concat([meta, adata.obs], axis=1)"
   ]
  },
  {
   "cell_type": "code",
   "execution_count": null,
   "metadata": {},
   "outputs": [],
   "source": [
    "# Saving count data\n",
    "adata.layers[\"counts\"] = adata.X.copy()\n",
    "# Normalizing to median total counts\n",
    "sc.pp.normalize_total(adata)\n",
    "# Logarithmize the data\n",
    "sc.pp.log1p(adata)\n",
    "sc.pp.highly_variable_genes(adata, n_top_genes=10000, batch_key=\"sample\")\n",
    "sc.pl.highly_variable_genes(adata)\n",
    "sc.tl.pca(adata)\n",
    "sc.pl.pca_variance_ratio(adata, n_pcs=50, log=True)\n",
    "sc.pp.neighbors(adata)\n",
    "sc.tl.umap(adata)"
   ]
  },
  {
   "cell_type": "code",
   "execution_count": null,
   "metadata": {},
   "outputs": [],
   "source": [
    "\n",
    "cols2 = dict(map(lambda i,j : (i,j) , sorted(rdata.obs[\"SFClassification\"].unique()), cols))\n",
    "sc.pl.umap(adata, color = \"ground_truth\", palette = cols2)"
   ]
  },
  {
   "cell_type": "code",
   "execution_count": null,
   "metadata": {},
   "outputs": [],
   "source": [
    "umap = pd.read_csv(ROOT_DIR1+\"/3file/umap_reduction.tsv.gz\", header=0, sep='\\t', index_col=0)\n",
    "adata.obsm['X_umap2'] = adata.obsm['X_umap']\n",
    "adata.obsm['X_umap']  = umap.to_numpy()"
   ]
  },
  {
   "cell_type": "code",
   "execution_count": null,
   "metadata": {},
   "outputs": [],
   "source": [
    "sc.pl.umap(adata, color = \"ground_truth\", palette = cols2)"
   ]
  },
  {
   "cell_type": "markdown",
   "metadata": {},
   "source": [
    "## find variable genes"
   ]
  },
  {
   "cell_type": "code",
   "execution_count": null,
   "metadata": {},
   "outputs": [],
   "source": [
    "def intersection(lst1, lst2):\n",
    "    lst3 = [value for value in lst1 if value in lst2]\n",
    "    return lst3\n",
    "sc.pp.highly_variable_genes(adata,  n_top_genes=10000)\n",
    "sc.pp.highly_variable_genes(adata,  n_top_genes=10000)\n",
    "vg = intersection(adata.var.index[adata.var['highly_variable'].to_numpy()].tolist(), rdata.var.index[rdata.var['highly_variable'].to_numpy()].tolist())"
   ]
  },
  {
   "cell_type": "code",
   "execution_count": null,
   "metadata": {},
   "outputs": [],
   "source": [
    "viewmaster(adata, rdata, \"SFClassification\", query_celldata_col= \"vmP_mlr\", FUNC= \"mlr\", selected_genes=vg)\n",
    "viewmaster(adata, rdata, \"SFClassification\", query_celldata_col= \"vmP_nb\", FUNC= \"nb\", selected_genes=vg)\n",
    "viewmaster(adata, rdata, \"SFClassification\", query_celldata_col= \"vmP_nn\", FUNC= \"nn\", selected_genes=vg)"
   ]
  },
  {
   "cell_type": "code",
   "execution_count": null,
   "metadata": {},
   "outputs": [],
   "source": [
    "sc.pl.umap(adata, color = \"vmP_mlr\", palette = cols2)\n",
    "sc.pl.umap(adata, color = \"vmP_nb\", palette = cols2)\n",
    "sc.pl.umap(adata, color = \"vmP_nn\", palette = cols2)\n",
    "sc.pl.umap(adata, color = \"ground_truth\", palette = cols2)"
   ]
  }
 ],
 "metadata": {
  "kernelspec": {
   "display_name": "scvelo_jupyter_new",
   "language": "python",
   "name": "scvelo_jupyter"
  },
  "language_info": {
   "codemirror_mode": {
    "name": "ipython",
    "version": 3
   },
   "file_extension": ".py",
   "mimetype": "text/x-python",
   "name": "python",
   "nbconvert_exporter": "python",
   "pygments_lexer": "ipython3",
   "version": "3.9.20"
  }
 },
 "nbformat": 4,
 "nbformat_minor": 2
}
